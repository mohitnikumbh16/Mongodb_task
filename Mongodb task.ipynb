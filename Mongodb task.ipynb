{
 "cells": [
  {
   "cell_type": "markdown",
   "id": "efe13fcc",
   "metadata": {},
   "source": [
    "# Problem Statement:"
   ]
  },
  {
   "cell_type": "markdown",
   "id": "608a7bb0",
   "metadata": {},
   "source": [
    "1.visit the link:https://archive.ics.uci.edu/ml/datasets/Carbon+Nanotubes\n",
    "2.download the dataset\n",
    "3.insert bulk data(csv file in mongodb)\n",
    "4.different operation.\n",
    "\n",
    "4.1 insertiion\n",
    "4.2 update\n",
    "4.3 deletion\n",
    "4.4 find operation\n",
    "4.5 filter\n",
    "\n",
    "code evalution\n",
    "\n",
    "modular coding\n",
    "execption handling\n",
    "proper log\n"
   ]
  },
  {
   "cell_type": "code",
   "execution_count": 1,
   "id": "f5452ed9",
   "metadata": {},
   "outputs": [],
   "source": [
    "#importing modules#\n",
    "import pymongo\n",
    "import logging\n",
    "import csv"
   ]
  },
  {
   "cell_type": "code",
   "execution_count": 2,
   "id": "1f4b34f5",
   "metadata": {},
   "outputs": [],
   "source": [
    "logging.basicConfig(filename='carbon_nanotubes_logfiles.log',\n",
    "                    filemode='a',\n",
    "                    format='%(asctime)s-%(levelname)s-%(message)s',\n",
    "                    datefmt='%Y-%m-%d %H:%M:%S',\n",
    "                    level=logging.INFO\n",
    "                   )\n",
    "\n",
    "logger=logging.getLogger()\n",
    "logger.setLevel(logging.DEBUG)\n",
    "                    "
   ]
  },
  {
   "cell_type": "code",
   "execution_count": 3,
   "id": "ff582451",
   "metadata": {},
   "outputs": [],
   "source": [
    "class Mongobd:                    #Mongodb class with basic mongo operations#\n",
    "    def __init__(self,client_url):\n",
    "        self.client_url=client_url\n",
    "        \n",
    "        try:\n",
    "            self.client=pymongo.MongoClient(self.client_url)\n",
    "        except Exception as e:\n",
    "            print(\"Connection issue\", e)\n",
    "            logger.error('Connection Issue: ' + str(e))\n",
    "        else:\n",
    "            print(\"Connection Established\")\n",
    "            logger.info('Connection Established!' + str(self.client))\n",
    "            \n",
    "            \n",
    "    \n",
    "    def create_database(self, db_name):\n",
    "        \n",
    "        try:\n",
    "            self.database = self.client[str(db_name)]\n",
    "        except Exception as e:\n",
    "            print(\"Database Creation issue\", e)\n",
    "            logger.error('Database Creation issue: ' + str(e))\n",
    "        else:\n",
    "            print(\"Database Created\")\n",
    "            logger.info('Database ceated:' + db_name + str(self.database))\n",
    "        \n",
    "    \n",
    "    def create_collection(self,collection_name):\n",
    "        \n",
    "        try:\n",
    "            self.collection= self.database[str(collection_name)]\n",
    "        except exception as e:\n",
    "            print(\"Collection creation issue\", e)\n",
    "            logger.error('collection creation issue: ' + str(e))\n",
    "        else:\n",
    "            print(\"collection created\")\n",
    "            logger.info('collection created: ' + collection_name + str(self.collection))\n",
    "            \n",
    "    \n",
    "    def insert(self,record):\n",
    "        \n",
    "        try:\n",
    "            if type(record) == dict:\n",
    "                self.collection.insert_one(record)\n",
    "                record_count = 1\n",
    "            elif type(record) == list:\n",
    "                self.collection.insert_many(record)\n",
    "                record_count = len(record)\n",
    "        except Exception as e:\n",
    "            print(\"Data insertion issue\" , e)\n",
    "            logger.error('Data Insertion issue:' + str(e))\n",
    "        else:\n",
    "            print(\"Data Inserted:{} records\".format(record_count))\n",
    "            logger.info('Data Inserted:' + str(record_count) + 'records')\n",
    "            \n",
    "    \n",
    "    def update(self, present_data , new_data ,update_all = False):\n",
    "        \n",
    "        try:\n",
    "            new_data ={'$set':new_data}\n",
    "            if update_all == True:\n",
    "                self.collection.update_many(present_data , new_data)\n",
    "            else:\n",
    "                self.collection.update_one(present_data,new_data)\n",
    "        except Exception as e:\n",
    "            print(\"Update failed\" , e)\n",
    "            logger.error('Update failed: ' + str(e))\n",
    "        else:\n",
    "            logger.info('Data Updated')\n",
    "            \n",
    "    \n",
    "    def delete(self,delete_data,delete_all=False):\n",
    "        \n",
    "        try:\n",
    "            if delete_all == True:\n",
    "                self.collection.delete_many(delete_data)\n",
    "            else:\n",
    "                self.collection.delete_one(delete_data)\n",
    "        except Exception as e:\n",
    "            print(\"Delete failed\" , e)\n",
    "            logger.error('Delete failed:'+ str(e))\n",
    "            \n",
    "        else:\n",
    "            print(\"Delete Done\")\n",
    "            logger.info('Record deleted')\n",
    "            \n",
    "    \n",
    "    def find(self , query):\n",
    "        logger.info('Finding records for query:' + str(query))\n",
    "        return self.collection.find(query)\n",
    "    \n",
    "    \n",
    "    def display(self , count):\n",
    "        logger.info('Displaying the top:' + str(count) + 'records')\n",
    "        return self.collection.find().limit(count)\n",
    "      "
   ]
  },
  {
   "cell_type": "markdown",
   "id": "ac4f8c38",
   "metadata": {},
   "source": [
    "# Creating Database and Collection\n"
   ]
  },
  {
   "cell_type": "code",
   "execution_count": 4,
   "id": "d0a9f8fa",
   "metadata": {},
   "outputs": [
    {
     "name": "stdout",
     "output_type": "stream",
     "text": [
      "Connection Established\n"
     ]
    }
   ],
   "source": [
    "#creating cluster object of Mongodb class and Estblished connection with mongodb atlas#\n",
    "\n",
    "cluster= Mongobd(client_url='mongodb+srv://<mongodbtask>:<mongodb>@cluster0.fblem.mongodb.net/myFirstDatabase?retryWrites=true&w=majority')"
   ]
  },
  {
   "cell_type": "code",
   "execution_count": 5,
   "id": "6773714f",
   "metadata": {},
   "outputs": [
    {
     "name": "stdout",
     "output_type": "stream",
     "text": [
      "Database Created\n",
      "collection created\n"
     ]
    }
   ],
   "source": [
    "#creating database and collection\n",
    "\n",
    "cluster.create_database('carbon_nano_db')\n",
    "cluster.create_collection('nanotube_collections')"
   ]
  },
  {
   "cell_type": "markdown",
   "id": "1f3d76f6",
   "metadata": {},
   "source": [
    "# Task 3: Insert the bulk CSV (carbon_nanotube_data) "
   ]
  },
  {
   "cell_type": "code",
   "execution_count": 6,
   "id": "220c8491",
   "metadata": {},
   "outputs": [],
   "source": [
    "with open('carbon_nanotubes.csv','r') as f:\n",
    "    data = csv.reader(f , delimiter = '\\n')\n",
    "    itr = 0\n",
    "    records = []\n",
    "    \n",
    "    for i in data:\n",
    "        if itr == 0:\n",
    "            itr += 1\n",
    "            continue\n",
    "        row_data = i[0].split(';')\n",
    "        record={'m': int(row_data[0]),      # Chiral indice n\n",
    "            'n': int(row_data[1]),      # Chiral indice m\n",
    "            'u': (row_data[2]),           # Initial atomic coordinate u\n",
    "            'v': (row_data[3]),           # Initial atomic coordinate v\n",
    "            'w': (row_data[4]),           # Initial atomic coordinate w\n",
    "            'u': (row_data[5]),          # Calculated atomic coordinates u'\n",
    "            'v': (row_data[6]),          # Calculated atomic coordinates v'\n",
    "            'w': (row_data[7]),         # Calculated atomic coordinates w'\n",
    "        }\n",
    "        records.append(record)"
   ]
  },
  {
   "cell_type": "code",
   "execution_count": null,
   "id": "abfbb234",
   "metadata": {},
   "outputs": [],
   "source": [
    "cluster.insert(records)"
   ]
  },
  {
   "cell_type": "markdown",
   "id": "1f1725ab",
   "metadata": {},
   "source": [
    "# Task 4: Different MongoDB Operations"
   ]
  },
  {
   "cell_type": "markdown",
   "id": "e429f343",
   "metadata": {},
   "source": [
    "4.1 Data Insertion"
   ]
  },
  {
   "cell_type": "code",
   "execution_count": null,
   "id": "34a59564",
   "metadata": {},
   "outputs": [],
   "source": [
    "record = {\n",
    "    'm': 112,\n",
    "    'n': 2,\n",
    "    'u': '0,35442',\n",
    "    'v': '0,363635',\n",
    "    'w': '0,3452562',\n",
    "    \"u'\": '0,2122',\n",
    "    \"v'\": '0,21556',\n",
    "    \"w'\": '0,09834',\n",
    "}\n",
    "cluster.insert(record)"
   ]
  },
  {
   "cell_type": "markdown",
   "id": "deaa9c90",
   "metadata": {},
   "source": [
    "# 4.2 update"
   ]
  },
  {
   "cell_type": "markdown",
   "id": "bbf7c57a",
   "metadata": {},
   "source": [
    "Updating only one record (Update_all = False)"
   ]
  },
  {
   "cell_type": "code",
   "execution_count": null,
   "id": "54c1da63",
   "metadata": {},
   "outputs": [],
   "source": [
    "present_data = {'u': '0,111111'}\n",
    "new_data = {'u': '0,323232', \"u'\": '0,323232', \"v\": '0,222222'}\n",
    "cluster.update(present_data, new_data, update_all=False)"
   ]
  },
  {
   "cell_type": "code",
   "execution_count": null,
   "id": "b6225153",
   "metadata": {},
   "outputs": [],
   "source": [
    "cluster.update(present_data, new_data, update_all=True)"
   ]
  },
  {
   "cell_type": "markdown",
   "id": "3c8e895d",
   "metadata": {},
   "source": [
    "# 4.3 Delete Data"
   ]
  },
  {
   "cell_type": "markdown",
   "id": "273b289a",
   "metadata": {},
   "source": [
    "Deleting 1 record with m = 1 (delete_all = False)"
   ]
  },
  {
   "cell_type": "code",
   "execution_count": null,
   "id": "f0872ff5",
   "metadata": {},
   "outputs": [],
   "source": [
    "delete_data = {'m': 1}\n",
    "cluster.delete(delete_data, delete_all=False)"
   ]
  },
  {
   "cell_type": "markdown",
   "id": "fd7f71f2",
   "metadata": {},
   "source": [
    "# 4.4 Find Operator"
   ]
  },
  {
   "cell_type": "code",
   "execution_count": null,
   "id": "26738805",
   "metadata": {},
   "outputs": [],
   "source": [
    "## Checking if record for m = 1 exits\n",
    "query = {'m': '1'}\n",
    "\n",
    "for i in cluster.find(query):\n",
    "    print(i)\n",
    "query = {'m': {'$lte': 2}}\n",
    "\n",
    "for i in cluster.find(query):\n",
    "    print(i)"
   ]
  },
  {
   "cell_type": "code",
   "execution_count": null,
   "id": "471d117a",
   "metadata": {},
   "outputs": [],
   "source": [
    "query = {'u': {'$in': ['0,287448', '0,489336', '0,665708']}}\n",
    "\n",
    "for i in cluster.find(query):\n",
    "    print(i)"
   ]
  },
  {
   "cell_type": "markdown",
   "id": "59962c2b",
   "metadata": {},
   "source": [
    "# 4.5 Display"
   ]
  },
  {
   "cell_type": "code",
   "execution_count": null,
   "id": "63ae57f4",
   "metadata": {},
   "outputs": [],
   "source": [
    "display_count = 10\n",
    "for idx, record in enumerate(cluster.display(display_count)):\n",
    "    print(idx, record)"
   ]
  }
 ],
 "metadata": {
  "kernelspec": {
   "display_name": "Python 3 (ipykernel)",
   "language": "python",
   "name": "python3"
  },
  "language_info": {
   "codemirror_mode": {
    "name": "ipython",
    "version": 3
   },
   "file_extension": ".py",
   "mimetype": "text/x-python",
   "name": "python",
   "nbconvert_exporter": "python",
   "pygments_lexer": "ipython3",
   "version": "3.9.7"
  }
 },
 "nbformat": 4,
 "nbformat_minor": 5
}
